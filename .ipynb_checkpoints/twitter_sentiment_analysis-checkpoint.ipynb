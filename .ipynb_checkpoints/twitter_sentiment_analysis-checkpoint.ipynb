{
 "cells": [
  {
   "cell_type": "markdown",
   "metadata": {},
   "source": [
    "# Exercise 3: Twitter Sentiment Analysis\n",
    "## Vasileios Papadopoulos\n",
    "\n",
    "This assignment is part of Natural Language Process course of M.Sc in Artificial Intelligence from the University of Piraeus"
   ]
  },
  {
   "cell_type": "markdown",
   "metadata": {},
   "source": [
    "## Setup\n",
    "\n",
    "Install TexBlob using pip and import all necessary modules"
   ]
  },
  {
   "cell_type": "code",
   "execution_count": 1,
   "metadata": {},
   "outputs": [],
   "source": [
    "# !pip3 install textblob\n",
    "\n",
    "from textblob import TextBlob\n",
    "import sklearn\n",
    "from sklearn.ensemble import RandomForestClassifier\n",
    "from sklearn.svm import SVC\n",
    "from sklearn.naive_bayes import GaussianNB\n",
    "from sklearn.metrics import confusion_matrix\n",
    "from sklearn.metrics import plot_confusion_matrix\n",
    "from sklearn.model_selection import train_test_split\n",
    "from sklearn.metrics import classification_report, plot_roc_curve\n",
    "from sklearn.model_selection import GridSearchCV\n",
    "from sklearn.utils import compute_class_weight\n",
    "from sklearn.preprocessing import StandardScaler, MinMaxScaler\n",
    "from sklearn.pipeline import Pipeline\n",
    "from sklearn.metrics import roc_curve, roc_auc_score, auc\n",
    "from sklearn import preprocessing\n",
    "\n",
    "import matplotlib.pyplot as plt  \n",
    "import seaborn as sns"
   ]
  },
  {
   "cell_type": "markdown",
   "metadata": {},
   "source": [
    "## Read the test dataset from the file provided in the link above"
   ]
  },
  {
   "cell_type": "code",
   "execution_count": 2,
   "metadata": {
    "scrolled": true
   },
   "outputs": [
    {
     "name": "stdout",
     "output_type": "stream",
     "text": [
      "(15651, 3)\n"
     ]
    },
    {
     "data": {
      "text/html": [
       "<div>\n",
       "<style scoped>\n",
       "    .dataframe tbody tr th:only-of-type {\n",
       "        vertical-align: middle;\n",
       "    }\n",
       "\n",
       "    .dataframe tbody tr th {\n",
       "        vertical-align: top;\n",
       "    }\n",
       "\n",
       "    .dataframe thead th {\n",
       "        text-align: right;\n",
       "    }\n",
       "</style>\n",
       "<table border=\"1\" class=\"dataframe\">\n",
       "  <thead>\n",
       "    <tr style=\"text-align: right;\">\n",
       "      <th></th>\n",
       "      <th>tweet_id</th>\n",
       "      <th>sentiment</th>\n",
       "      <th>text</th>\n",
       "    </tr>\n",
       "  </thead>\n",
       "  <tbody>\n",
       "    <tr>\n",
       "      <th>0</th>\n",
       "      <td>619950566786113536</td>\n",
       "      <td>neutral</td>\n",
       "      <td>Picturehouse's, Pink Floyd's, 'Roger Waters: T...</td>\n",
       "    </tr>\n",
       "    <tr>\n",
       "      <th>1</th>\n",
       "      <td>619969366986235905</td>\n",
       "      <td>neutral</td>\n",
       "      <td>Order Go Set a Watchman in store or through ou...</td>\n",
       "    </tr>\n",
       "    <tr>\n",
       "      <th>2</th>\n",
       "      <td>619974445185302528</td>\n",
       "      <td>neutral</td>\n",
       "      <td>If you could ask an onstage interview question...</td>\n",
       "    </tr>\n",
       "    <tr>\n",
       "      <th>3</th>\n",
       "      <td>619987808317407232</td>\n",
       "      <td>positive</td>\n",
       "      <td>A portion of book sales from our Harper Lee/Go...</td>\n",
       "    </tr>\n",
       "    <tr>\n",
       "      <th>4</th>\n",
       "      <td>619994586182619136</td>\n",
       "      <td>positive</td>\n",
       "      <td>Excited to read \"Go Set a Watchman\" on Tuesday...</td>\n",
       "    </tr>\n",
       "  </tbody>\n",
       "</table>\n",
       "</div>"
      ],
      "text/plain": [
       "             tweet_id sentiment  \\\n",
       "0  619950566786113536   neutral   \n",
       "1  619969366986235905   neutral   \n",
       "2  619974445185302528   neutral   \n",
       "3  619987808317407232  positive   \n",
       "4  619994586182619136  positive   \n",
       "\n",
       "                                                text  \n",
       "0  Picturehouse's, Pink Floyd's, 'Roger Waters: T...  \n",
       "1  Order Go Set a Watchman in store or through ou...  \n",
       "2  If you could ask an onstage interview question...  \n",
       "3  A portion of book sales from our Harper Lee/Go...  \n",
       "4  Excited to read \"Go Set a Watchman\" on Tuesday...  "
      ]
     },
     "execution_count": 2,
     "metadata": {},
     "output_type": "execute_result"
    }
   ],
   "source": [
    "import pandas as pd\n",
    "import numpy as np\n",
    "\n",
    "file = 'twitter-2016test-A-clean.tsv'\n",
    "bloblist = list()\n",
    "\n",
    "df = pd.read_csv(file ,sep='\\t')\n",
    "print(df.shape)\n",
    "df.head()"
   ]
  },
  {
   "cell_type": "markdown",
   "metadata": {},
   "source": [
    "### Class Distribution\n",
    "\n",
    "We see that the dataset is skewed as the distribution favors the class *neutral*. Dataset is imbalanced."
   ]
  },
  {
   "cell_type": "code",
   "execution_count": 3,
   "metadata": {},
   "outputs": [
    {
     "name": "stdout",
     "output_type": "stream",
     "text": [
      "neutral     7839\n",
      "positive    5502\n",
      "negative    2310\n",
      "Name: sentiment, dtype: int64\n"
     ]
    },
    {
     "data": {
      "text/plain": [
       "<AxesSubplot:>"
      ]
     },
     "execution_count": 3,
     "metadata": {},
     "output_type": "execute_result"
    },
    {
     "data": {
      "image/png": "[encoded data removed]",
      "text/plain": [
       "<Figure size 432x288 with 1 Axes>"
      ]
     },
     "metadata": {
      "needs_background": "light"
     },
     "output_type": "display_data"
    }
   ],
   "source": [
    "labels_count = df['sentiment'].value_counts()\n",
    "print(labels_count)\n",
    "\n",
    "labels_count.plot.bar()"
   ]
  },
  {
   "cell_type": "code",
   "execution_count": 4,
   "metadata": {},
   "outputs": [
    {
     "name": "stdout",
     "output_type": "stream",
     "text": [
      "[2.25844156 0.66551856 0.94820065]\n"
     ]
    },
    {
     "name": "stderr",
     "output_type": "stream",
     "text": [
      "/usr/local/lib/python3.9/site-packages/sklearn/utils/validation.py:70: FutureWarning: Pass classes=['negative' 'neutral' 'positive'], y=0         neutral\n",
      "1         neutral\n",
      "2         neutral\n",
      "3        positive\n",
      "4        positive\n",
      "           ...   \n",
      "15646     neutral\n",
      "15647    positive\n",
      "15648     neutral\n",
      "15649    negative\n",
      "15650     neutral\n",
      "Name: sentiment, Length: 15651, dtype: object as keyword args. From version 1.0 (renaming of 0.25) passing these as positional arguments will result in an error\n",
      "  warnings.warn(f\"Pass {args_msg} as keyword args. From version \"\n"
     ]
    }
   ],
   "source": [
    "'''Compute class weights'''\n",
    "\n",
    "class_weights = compute_class_weight('balanced',\n",
    "                                                 np.unique(df['sentiment']),\n",
    "                                                 df['sentiment'])\n",
    "# class_weights = dict(enumerate(class_weights))\n",
    "print(class_weights)"
   ]
  },
  {
   "cell_type": "markdown",
   "metadata": {},
   "source": [
    "## For each tweet in the dataset you need to create a TextBlob object"
   ]
  },
  {
   "cell_type": "code",
   "execution_count": 5,
   "metadata": {},
   "outputs": [],
   "source": [
    "'''For every tweet-text create a TextBlob and append into list'''\n",
    "blobs = []\n",
    "for index in df.index:\n",
    "    blobs.append(TextBlob(df['text'][index]))\n"
   ]
  },
  {
   "cell_type": "markdown",
   "metadata": {},
   "source": [
    "##  Read the documentation and find which attribute contains the polarity.\n",
    "\n",
    "The sentiment property returns a namedtuple of the form Sentiment(polarity, subjectivity). \n",
    "Polarity is float which lies in the range of [-1,1] where 1 means positive statement and -1 means a negative statement.\n",
    "Subjective sentences generally refer to personal opinion, emotion or judgment whereas objective refers to factual information. Subjectivity is also a float which lies in the range of [0,1]"
   ]
  },
  {
   "cell_type": "code",
   "execution_count": 6,
   "metadata": {},
   "outputs": [
    {
     "name": "stdout",
     "output_type": "stream",
     "text": [
      "First tweet Polarity and Subjectivity Sentiment(polarity=-0.1, subjectivity=0.3)\n"
     ]
    }
   ],
   "source": [
    "print(f'First tweet Polarity and Subjectivity {blobs[0].sentiment}')"
   ]
  },
  {
   "cell_type": "markdown",
   "metadata": {},
   "source": [
    "## Return the polarity of each tweet in terms of positive, negative or neutral (make sure you document your assumptions)\n",
    "\n",
    "We extract informative features"
   ]
  },
  {
   "cell_type": "code",
   "execution_count": 7,
   "metadata": {},
   "outputs": [
    {
     "data": {
      "text/html": [
       "<div>\n",
       "<style scoped>\n",
       "    .dataframe tbody tr th:only-of-type {\n",
       "        vertical-align: middle;\n",
       "    }\n",
       "\n",
       "    .dataframe tbody tr th {\n",
       "        vertical-align: top;\n",
       "    }\n",
       "\n",
       "    .dataframe thead th {\n",
       "        text-align: right;\n",
       "    }\n",
       "</style>\n",
       "<table border=\"1\" class=\"dataframe\">\n",
       "  <thead>\n",
       "    <tr style=\"text-align: right;\">\n",
       "      <th></th>\n",
       "      <th>tweet_id</th>\n",
       "      <th>sentiment</th>\n",
       "      <th>text</th>\n",
       "      <th>polarity</th>\n",
       "      <th>subjectivity</th>\n",
       "    </tr>\n",
       "  </thead>\n",
       "  <tbody>\n",
       "    <tr>\n",
       "      <th>0</th>\n",
       "      <td>619950566786113536</td>\n",
       "      <td>neutral</td>\n",
       "      <td>Picturehouse's, Pink Floyd's, 'Roger Waters: T...</td>\n",
       "      <td>-0.100000</td>\n",
       "      <td>0.300000</td>\n",
       "    </tr>\n",
       "    <tr>\n",
       "      <th>1</th>\n",
       "      <td>619969366986235905</td>\n",
       "      <td>neutral</td>\n",
       "      <td>Order Go Set a Watchman in store or through ou...</td>\n",
       "      <td>-0.208333</td>\n",
       "      <td>0.166667</td>\n",
       "    </tr>\n",
       "    <tr>\n",
       "      <th>2</th>\n",
       "      <td>619974445185302528</td>\n",
       "      <td>neutral</td>\n",
       "      <td>If you could ask an onstage interview question...</td>\n",
       "      <td>0.000000</td>\n",
       "      <td>0.000000</td>\n",
       "    </tr>\n",
       "    <tr>\n",
       "      <th>3</th>\n",
       "      <td>619987808317407232</td>\n",
       "      <td>positive</td>\n",
       "      <td>A portion of book sales from our Harper Lee/Go...</td>\n",
       "      <td>0.800000</td>\n",
       "      <td>0.750000</td>\n",
       "    </tr>\n",
       "    <tr>\n",
       "      <th>4</th>\n",
       "      <td>619994586182619136</td>\n",
       "      <td>positive</td>\n",
       "      <td>Excited to read \"Go Set a Watchman\" on Tuesday...</td>\n",
       "      <td>0.255682</td>\n",
       "      <td>0.625000</td>\n",
       "    </tr>\n",
       "  </tbody>\n",
       "</table>\n",
       "</div>"
      ],
      "text/plain": [
       "             tweet_id sentiment  \\\n",
       "0  619950566786113536   neutral   \n",
       "1  619969366986235905   neutral   \n",
       "2  619974445185302528   neutral   \n",
       "3  619987808317407232  positive   \n",
       "4  619994586182619136  positive   \n",
       "\n",
       "                                                text  polarity  subjectivity  \n",
       "0  Picturehouse's, Pink Floyd's, 'Roger Waters: T... -0.100000      0.300000  \n",
       "1  Order Go Set a Watchman in store or through ou... -0.208333      0.166667  \n",
       "2  If you could ask an onstage interview question...  0.000000      0.000000  \n",
       "3  A portion of book sales from our Harper Lee/Go...  0.800000      0.750000  \n",
       "4  Excited to read \"Go Set a Watchman\" on Tuesday...  0.255682      0.625000  "
      ]
     },
     "execution_count": 7,
     "metadata": {},
     "output_type": "execute_result"
    }
   ],
   "source": [
    "'''Calculate and store polarity for every tweet'''\n",
    "polarities = []\n",
    "subjectivities = []\n",
    "for b in blobs:\n",
    "    polarities.append(b.sentiment.polarity)\n",
    "    subjectivities.append(b.sentiment.subjectivity)\n",
    "\n",
    "#append polarity and subjectivity into dataframe\n",
    "df['polarity'] = np.array(polarities)\n",
    "df['subjectivity'] = np.array(subjectivities)\n",
    "df.head()"
   ]
  },
  {
   "cell_type": "markdown",
   "metadata": {},
   "source": [
    "## Calculate the accuracy, precision, recall and f-score of the classification\n",
    "\n",
    "We will use polarity feature as independent variable to classify tweet's sentiment. The are 3 classes [Negative, Neutral, Positive]"
   ]
  },
  {
   "cell_type": "code",
   "execution_count": 8,
   "metadata": {},
   "outputs": [
    {
     "name": "stdout",
     "output_type": "stream",
     "text": [
      "X_train shape is (12520, 1)\n",
      "X_test shape is (3131, 1)\n"
     ]
    }
   ],
   "source": [
    "'''Prepare datase get X and Y '''\n",
    "# scaler = MinMaxScaler()\n",
    "# df['polarity'] = scaler.fit_transform(df[['polarity']])\n",
    "\n",
    "X = np.array(df['polarity'])\n",
    "y = np.array(df['sentiment'])\n",
    "X = X.reshape(X.shape[0], 1)\n",
    "y = y.reshape(y.shape[0], 1)\n",
    "\n",
    "# dividing X, y into train and test data\n",
    "X_train, X_test, y_train, y_test = train_test_split(X, y, test_size=0.2, random_state = 42)\n",
    "print(f'X_train shape is {X_train.shape}')\n",
    "print(f'X_test shape is {X_test.shape}')"
   ]
  },
  {
   "cell_type": "code",
   "execution_count": 9,
   "metadata": {},
   "outputs": [
    {
     "data": {
      "text/plain": [
       "<AxesSubplot:ylabel='Frequency'>"
      ]
     },
     "execution_count": 9,
     "metadata": {},
     "output_type": "execute_result"
    },
    {
     "data": {
      "image/png": "[encoded data removed]",
      "text/plain": [
       "<Figure size 432x288 with 1 Axes>"
      ]
     },
     "metadata": {
      "needs_background": "light"
     },
     "output_type": "display_data"
    }
   ],
   "source": [
    "df['polarity'].plot.hist()"
   ]
  },
  {
   "cell_type": "markdown",
   "metadata": {},
   "source": [
    "## Pipelines"
   ]
  },
  {
   "cell_type": "code",
   "execution_count": 10,
   "metadata": {},
   "outputs": [],
   "source": [
    "pipelines = [\n",
    "    Pipeline([('scaler', StandardScaler()), ('svc', SVC(kernel='rbf', probability=True))]),\n",
    "    Pipeline([('scaler', StandardScaler()), ('rf', RandomForestClassifier())]),\n",
    "    Pipeline([('scaler', StandardScaler()), ('nb', GaussianNB())])\n",
    "]\n",
    "\n",
    "pipe_dictionary = {0:'SVC', \n",
    "                   1:'Random Forest', \n",
    "                   2:'Naive Bayes'}"
   ]
  },
  {
   "cell_type": "code",
   "execution_count": 11,
   "metadata": {},
   "outputs": [
    {
     "name": "stdout",
     "output_type": "stream",
     "text": [
      "SVC - Train set accuracy is 0.5753993610223642\n",
      "Random Forest - Train set accuracy is 0.6309105431309904\n",
      "Naive Bayes - Train set accuracy is 0.5676517571884984\n"
     ]
    }
   ],
   "source": [
    "#fit pipelines\n",
    "for index, model in enumerate(pipelines):\n",
    "    model.fit(X_train, y_train.ravel())\n",
    "    accuracy = model.score(X_train, y_train)\n",
    "    print(f'{pipe_dictionary[index]} - Train set accuracy is {accuracy}')\n"
   ]
  },
  {
   "cell_type": "code",
   "execution_count": 12,
   "metadata": {},
   "outputs": [
    {
     "name": "stdout",
     "output_type": "stream",
     "text": [
      "SVC Test set accuracy : 0.5685084637496007\n",
      "              precision    recall  f1-score   support\n",
      "\n",
      "    negative       0.54      0.06      0.10       459\n",
      "     neutral       0.56      0.83      0.67      1570\n",
      "    positive       0.59      0.41      0.49      1102\n",
      "\n",
      "    accuracy                           0.57      3131\n",
      "   macro avg       0.56      0.43      0.42      3131\n",
      "weighted avg       0.57      0.57      0.52      3131\n",
      "\n",
      "Random Forest Test set accuracy : 0.5726604918556372\n",
      "              precision    recall  f1-score   support\n",
      "\n",
      "    negative       0.44      0.11      0.17       459\n",
      "     neutral       0.57      0.80      0.67      1570\n",
      "    positive       0.59      0.44      0.51      1102\n",
      "\n",
      "    accuracy                           0.57      3131\n",
      "   macro avg       0.53      0.45      0.45      3131\n",
      "weighted avg       0.56      0.57      0.54      3131\n",
      "\n",
      "Naive Bayes Test set accuracy : 0.5662727563078889\n",
      "              precision    recall  f1-score   support\n",
      "\n",
      "    negative       0.52      0.11      0.18       459\n",
      "     neutral       0.56      0.86      0.68      1570\n",
      "    positive       0.62      0.34      0.43      1102\n",
      "\n",
      "    accuracy                           0.57      3131\n",
      "   macro avg       0.56      0.44      0.43      3131\n",
      "weighted avg       0.57      0.57      0.52      3131\n",
      "\n"
     ]
    }
   ],
   "source": [
    "#print classification report\n",
    "labels = ['negative', 'neutral', 'positive']\n",
    "for index, model in enumerate(pipelines):\n",
    "    accu = model.score(X_test, y_test.ravel())\n",
    "    print(f'{pipe_dictionary[index]} Test set accuracy : {accu}')\n",
    "    y_pred = model.predict(X_test)\n",
    "    report = classification_report(y_test, y_pred, target_names=labels)\n",
    "    print(f'{report}')"
   ]
  },
  {
   "cell_type": "markdown",
   "metadata": {},
   "source": [
    "### Confusion Matrix"
   ]
  },
  {
   "cell_type": "code",
   "execution_count": 14,
   "metadata": {},
   "outputs": [
    {
     "data": {
      "image/png": "[encoded data removed]",
      "text/plain": [
       "<Figure size 432x288 with 2 Axes>"
      ]
     },
     "metadata": {
      "needs_background": "light"
     },
     "output_type": "display_data"
    },
    {
     "data": {
      "image/png": "[encoded data removed]",
      "text/plain": [
       "<Figure size 432x288 with 2 Axes>"
      ]
     },
     "metadata": {
      "needs_background": "light"
     },
     "output_type": "display_data"
    },
    {
     "data": {
      "image/png": "[encoded data removed]",
      "text/plain": [
       "<Figure size 432x288 with 2 Axes>"
      ]
     },
     "metadata": {
      "needs_background": "light"
     },
     "output_type": "display_data"
    }
   ],
   "source": [
    "for index, model in enumerate(pipelines):\n",
    "    disp = plot_confusion_matrix(model, X_test, y_test)  \n",
    "    disp.ax_.set_title(pipe_dictionary[index])\n",
    "plt.show()  "
   ]
  },
  {
   "cell_type": "markdown",
   "metadata": {},
   "source": [
    "## Area Under ROC (AUROC)\n",
    "\n",
    "Get the prediction probabilites of the model on test-set."
   ]
  },
  {
   "cell_type": "code",
   "execution_count": null,
   "metadata": {},
   "outputs": [],
   "source": [
    "#Binarize y_test\n",
    "le = preprocessing.LabelBinarizer()\n",
    "le.fit(np.array(y_test))\n",
    "\n",
    "y_test_binarized = le.transform(y_test)\n",
    "print(y_test_binarized)   "
   ]
  },
  {
   "cell_type": "markdown",
   "metadata": {},
   "source": [
    "### ROC Definition\n",
    "\n",
    "For multi-class problems, we can plot N number of ROC curvers where N is the number of classes. We use the ONE vs ALL technique; \n",
    "\n",
    "* Negative class against (Positive, Neutral)\n",
    "* Positive class against (Negative, Neutral)\n",
    "* Neutral class against  (Positive, Negative)\n",
    "\n",
    "Ideally, the best classifier produces ROC curves that lie as much as possible at the left-top corner of the plot.\n",
    "AUC value equal to 0.5 denotes the worst case meaning the classifier has no discriminative ability to distinquish among classes. \n",
    "AUC equal to 0 the classifier predicts true positive classes as negative and vice versa\n"
   ]
  },
  {
   "cell_type": "code",
   "execution_count": null,
   "metadata": {},
   "outputs": [],
   "source": [
    "for index, model in enumerate(pipelines):\n",
    "    probs = model.predict_proba(X_test)\n",
    "    roc = roc_auc_score(y_test_binarized, probs, multi_class='ovr')\n",
    "    print(f'{pipe_dictionary[index]} - AUROC {roc}')"
   ]
  },
  {
   "cell_type": "code",
   "execution_count": null,
   "metadata": {},
   "outputs": [],
   "source": [
    "# helper function\n",
    "def plot_multiclass_roc(y_test, y_probs, model, labels, figsize=(17, 6)):\n",
    "    \n",
    "    n_classes = len(labels)\n",
    "    # structures\n",
    "    fpr = dict()\n",
    "    tpr = dict()\n",
    "    roc_auc = dict()\n",
    "\n",
    "    for i in range(n_classes):\n",
    "        fpr[i], tpr[i], _ = roc_curve(y_test[:, i], y_probs[:, i])\n",
    "        roc_auc[i] = auc(fpr[i], tpr[i])\n",
    "\n",
    "\n",
    "    # roc for each class\n",
    "    fig, ax = plt.subplots(figsize = figsize)\n",
    "    ax.plot([0, 1], [0, 1], 'k--')\n",
    "    ax.set_xlim([0.0, 1.0])\n",
    "    ax.set_ylim([0.0, 1.05])\n",
    "    ax.set_xlabel('False Positive Rate')\n",
    "    ax.set_ylabel('True Positive Rate')\n",
    "    ax.set_title(f'{model} Receiver operating characteristic example')\n",
    "    for i in range(n_classes):\n",
    "        ax.plot(fpr[i], tpr[i], label='ROC curve (area = %0.2f) for label %s' % (roc_auc[i], labels[i]))\n",
    "    ax.legend(loc=\"best\")\n",
    "    ax.grid(alpha=.4)\n",
    "    sns.despine()\n",
    "    plt.show()\n"
   ]
  },
  {
   "cell_type": "code",
   "execution_count": null,
   "metadata": {},
   "outputs": [],
   "source": [
    "for index, model in enumerate(pipelines):\n",
    "    probs = model.predict_proba(X_test)\n",
    "    plot_multiclass_roc(y_test_binarized, probs, \n",
    "                        pipe_dictionary[index], \n",
    "                        labels, \n",
    "                        figsize = (8,5))"
   ]
  },
  {
   "cell_type": "code",
   "execution_count": null,
   "metadata": {},
   "outputs": [],
   "source": []
  }
 ],
 "metadata": {
  "kernelspec": {
   "display_name": "Python 3",
   "language": "python",
   "name": "python3"
  },
  "language_info": {
   "codemirror_mode": {
    "name": "ipython",
    "version": 3
   },
   "file_extension": ".py",
   "mimetype": "text/x-python",
   "name": "python",
   "nbconvert_exporter": "python",
   "pygments_lexer": "ipython3",
   "version": "3.9.1"
  }
 },
 "nbformat": 4,
 "nbformat_minor": 4
}
